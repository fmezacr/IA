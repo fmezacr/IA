{
  "nbformat": 4,
  "nbformat_minor": 0,
  "metadata": {
    "colab": {
      "name": "GA_Example.ipynb",
      "provenance": [],
      "authorship_tag": "ABX9TyMpQebxsz5PN6MxGl0X6pe0",
      "include_colab_link": true
    },
    "kernelspec": {
      "name": "python3",
      "display_name": "Python 3"
    },
    "language_info": {
      "name": "python"
    }
  },
  "cells": [
    {
      "cell_type": "markdown",
      "metadata": {
        "id": "view-in-github",
        "colab_type": "text"
      },
      "source": [
        "<a href=\"https://colab.research.google.com/github/fmezacr/IA/blob/main/GA_Example.ipynb\" target=\"_parent\"><img src=\"https://colab.research.google.com/assets/colab-badge.svg\" alt=\"Open In Colab\"/></a>"
      ]
    },
    {
      "cell_type": "markdown",
      "metadata": {
        "id": "LxLkoj-nqW8o"
      },
      "source": [
        "Ejemplo de Algoritmo Genetico Basico"
      ]
    },
    {
      "cell_type": "markdown",
      "metadata": {
        "id": "OSzd1KRPpm3O"
      },
      "source": [
        "Instalacion de libreria:"
      ]
    },
    {
      "cell_type": "code",
      "metadata": {
        "colab": {
          "base_uri": "https://localhost:8080/"
        },
        "id": "DQSkQJYbZZl9",
        "outputId": "ff2ee4b1-4243-4ff5-ee23-bb59ec4652ea"
      },
      "source": [
        "!pip install pygad\n"
      ],
      "execution_count": 2,
      "outputs": [
        {
          "output_type": "stream",
          "name": "stdout",
          "text": [
            "Collecting pygad\n",
            "  Downloading pygad-2.16.1-py3-none-any.whl (53 kB)\n",
            "\u001b[?25l\r\u001b[K     |██████▏                         | 10 kB 25.7 MB/s eta 0:00:01\r\u001b[K     |████████████▎                   | 20 kB 26.9 MB/s eta 0:00:01\r\u001b[K     |██████████████████▍             | 30 kB 32.6 MB/s eta 0:00:01\r\u001b[K     |████████████████████████▌       | 40 kB 25.6 MB/s eta 0:00:01\r\u001b[K     |██████████████████████████████▋ | 51 kB 16.0 MB/s eta 0:00:01\r\u001b[K     |████████████████████████████████| 53 kB 1.8 MB/s \n",
            "\u001b[?25hRequirement already satisfied: numpy in /usr/local/lib/python3.7/dist-packages (from pygad) (1.19.5)\n",
            "Requirement already satisfied: matplotlib in /usr/local/lib/python3.7/dist-packages (from pygad) (3.2.2)\n",
            "Requirement already satisfied: kiwisolver>=1.0.1 in /usr/local/lib/python3.7/dist-packages (from matplotlib->pygad) (1.3.2)\n",
            "Requirement already satisfied: pyparsing!=2.0.4,!=2.1.2,!=2.1.6,>=2.0.1 in /usr/local/lib/python3.7/dist-packages (from matplotlib->pygad) (2.4.7)\n",
            "Requirement already satisfied: cycler>=0.10 in /usr/local/lib/python3.7/dist-packages (from matplotlib->pygad) (0.10.0)\n",
            "Requirement already satisfied: python-dateutil>=2.1 in /usr/local/lib/python3.7/dist-packages (from matplotlib->pygad) (2.8.2)\n",
            "Requirement already satisfied: six in /usr/local/lib/python3.7/dist-packages (from cycler>=0.10->matplotlib->pygad) (1.15.0)\n",
            "Installing collected packages: pygad\n",
            "Successfully installed pygad-2.16.1\n"
          ]
        }
      ]
    },
    {
      "cell_type": "markdown",
      "metadata": {
        "id": "qlGAkq_hpr3d"
      },
      "source": [
        "Se importan librerias:\n",
        "\n"
      ]
    },
    {
      "cell_type": "code",
      "metadata": {
        "id": "3bUv3cY4pvmv"
      },
      "source": [
        "import pygad\n",
        "import numpy\n"
      ],
      "execution_count": 3,
      "outputs": []
    },
    {
      "cell_type": "markdown",
      "metadata": {
        "id": "VoaDL3oBqjHG"
      },
      "source": [
        "Planteamiento:"
      ]
    },
    {
      "cell_type": "code",
      "metadata": {
        "id": "bHFRYJC4qmyN"
      },
      "source": [
        "# y = f(w1:w6) = w1x1 + w2x2 + w3x3 + w4x4 + w5x5 + 6wx6\n",
        "# where (x1,x2,x3,x4,x5,x6)=(4,-2,3.5,5,-11,-4.7) and y=100"
      ],
      "execution_count": 18,
      "outputs": []
    },
    {
      "cell_type": "markdown",
      "metadata": {
        "id": "RSmTHkXPqw0e"
      },
      "source": [
        "Definicion entradas/salidas"
      ]
    },
    {
      "cell_type": "code",
      "metadata": {
        "id": "kY7iQwwjq1dg"
      },
      "source": [
        "function_inputs = [4,-2,3.5,5,-11,-4.7]\n",
        "desired_output = 100"
      ],
      "execution_count": 19,
      "outputs": []
    },
    {
      "cell_type": "markdown",
      "metadata": {
        "id": "fmDmaXT3rEsr"
      },
      "source": [
        "Fitness Funtion"
      ]
    },
    {
      "cell_type": "code",
      "metadata": {
        "id": "T-apfcr-rD6z"
      },
      "source": [
        "def fitness_func(solution, solution_idx):\n",
        "    output = numpy.sum(solution*function_inputs)\n",
        "    fitness = 1.0 / numpy.abs(output - desired_output)\n",
        "    return fitness "
      ],
      "execution_count": 20,
      "outputs": []
    },
    {
      "cell_type": "markdown",
      "metadata": {
        "id": "684UqH0arOq1"
      },
      "source": [
        "Definicion de parametros:"
      ]
    },
    {
      "cell_type": "code",
      "metadata": {
        "id": "-gX4WUhNrRJ6"
      },
      "source": [
        "fitness_function = fitness_func\n",
        "\n",
        "num_generations = 50\n",
        "num_parents_mating = 4\n",
        "\n",
        "sol_per_pop = 8\n",
        "num_genes = len(function_inputs)\n",
        "\n",
        "init_range_low = -2\n",
        "init_range_high = 5\n",
        "\n",
        "parent_selection_type = \"sss\"\n",
        "keep_parents = 1\n",
        "\n",
        "crossover_type = \"single_point\"\n",
        "\n",
        "mutation_type = \"random\"\n",
        "mutation_percent_genes = 10"
      ],
      "execution_count": 41,
      "outputs": []
    },
    {
      "cell_type": "markdown",
      "metadata": {
        "id": "pN13TsuErY9e"
      },
      "source": [
        "Creacion de la instancia:"
      ]
    },
    {
      "cell_type": "code",
      "metadata": {
        "colab": {
          "base_uri": "https://localhost:8080/"
        },
        "id": "cyXQpOkIrYqJ",
        "outputId": "bb7037e7-8caa-4d31-88db-03ea3fa12e3b"
      },
      "source": [
        "ga_instance = pygad.GA(num_generations=num_generations,\n",
        "                       num_parents_mating=num_parents_mating,\n",
        "                       fitness_func=fitness_function,\n",
        "                       sol_per_pop=sol_per_pop,\n",
        "                       num_genes=num_genes,\n",
        "                       init_range_low=init_range_low,\n",
        "                       init_range_high=init_range_high,\n",
        "                       parent_selection_type=parent_selection_type,\n",
        "                       keep_parents=keep_parents,\n",
        "                       crossover_type=crossover_type,\n",
        "                       mutation_type=mutation_type,\n",
        "                       mutation_percent_genes=mutation_percent_genes)"
      ],
      "execution_count": 42,
      "outputs": [
        {
          "output_type": "stream",
          "name": "stderr",
          "text": [
            "/usr/local/lib/python3.7/dist-packages/pygad/pygad.py:486: UserWarning: The percentage of genes to mutate (mutation_percent_genes=10) resutled in selecting (0) genes. The number of genes to mutate is set to 1 (mutation_num_genes=1).\n",
            "If you do not want to mutate any gene, please set mutation_type=None.\n",
            "  if not self.suppress_warnings: warnings.warn(\"The percentage of genes to mutate (mutation_percent_genes={mutation_percent}) resutled in selecting ({mutation_num}) genes. The number of genes to mutate is set to 1 (mutation_num_genes=1).\\nIf you do not want to mutate any gene, please set mutation_type=None.\".format(mutation_percent=mutation_percent_genes, mutation_num=mutation_num_genes))\n"
          ]
        }
      ]
    },
    {
      "cell_type": "markdown",
      "metadata": {
        "id": "Jr30vAKrriZF"
      },
      "source": [
        "Ejecucion de la instancia:"
      ]
    },
    {
      "cell_type": "code",
      "metadata": {
        "id": "wU9Ic3Y1rks1"
      },
      "source": [
        "ga_instance.run()"
      ],
      "execution_count": 43,
      "outputs": []
    },
    {
      "cell_type": "markdown",
      "metadata": {
        "id": "usLNvKlJrsmK"
      },
      "source": [
        "Resultados:"
      ]
    },
    {
      "cell_type": "code",
      "metadata": {
        "colab": {
          "base_uri": "https://localhost:8080/"
        },
        "id": "GB4kVIM5ruEt",
        "outputId": "d1830a09-ef87-40a4-a3f4-2396b3350ef5"
      },
      "source": [
        "solution, solution_fitness, solution_idx = ga_instance.best_solution()\n",
        "print(\"Parameters of the best solution : {solution}\".format(solution=solution))\n",
        "print(\"Fitness value of the best solution = {solution_fitness}\".format(solution_fitness=solution_fitness))\n",
        "\n",
        "prediction = numpy.sum(numpy.array(function_inputs)*solution)\n",
        "print(\"Predicted output based on the best solution : {prediction}\".format(prediction=prediction))"
      ],
      "execution_count": 44,
      "outputs": [
        {
          "output_type": "stream",
          "name": "stdout",
          "text": [
            "Parameters of the best solution : [ 6.19006187 -1.50615821  4.58594283  6.60971583 -1.97321255 -0.30448499]\n",
            "Fitness value of the best solution = 119.6106060696266\n",
            "Predicted output based on the best solution : 100.00836046261163\n"
          ]
        }
      ]
    }
  ]
}